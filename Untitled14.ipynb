{
 "cells": [
  {
   "cell_type": "code",
   "execution_count": 7,
   "id": "f1eac9ba-0f2b-4321-9f33-afdf74441dc8",
   "metadata": {},
   "outputs": [
    {
     "name": "stdout",
     "output_type": "stream",
     "text": [
      "peluang bahwa dalam 1 menit berikutnya terdapat tepat 4 pelangan yang akan datang: 0.1754674\n"
     ]
    }
   ],
   "source": [
    "# Muhammad Fadhil Ramadan\n",
    "# 064102400010\n",
    "\n",
    "from scipy.stats import poisson\n",
    "\n",
    "mean_arrival_rate = 5\n",
    "prob_4_arrivals = poisson.pmf(4, mu=mean_arrival_rate)\n",
    "print(\"peluang bahwa dalam 1 menit berikutnya terdapat tepat 4 pelangan yang akan datang: {:.7f}\".format(prob_4_arrivals))"
   ]
  },
  {
   "cell_type": "code",
   "execution_count": 11,
   "id": "4f13f99f-0b2a-41c3-b053-144fa8c227fa",
   "metadata": {},
   "outputs": [
    {
     "name": "stdout",
     "output_type": "stream",
     "text": [
      "Rata-rata jumlah kedatangan selama periode 1 ja: 300.00\n"
     ]
    }
   ],
   "source": [
    "# Muhammad Fadhil Ramadan\n",
    "# 064102400010\n",
    "\n",
    "mean_arrival_rate = 5\n",
    "mean_arrivals_per_hour=mean_arrival_rate*60\n",
    "print(\"Rata-rata jumlah kedatangan selama periode 1 ja: {:.2f}\".format(mean_arrivals_per_hour))"
   ]
  },
  {
   "cell_type": "code",
   "execution_count": null,
   "id": "71cc7b42-8f7b-4c93-ae20-1cb13fdc8b7a",
   "metadata": {},
   "outputs": [],
   "source": []
  }
 ],
 "metadata": {
  "kernelspec": {
   "display_name": "Python [conda env:base] *",
   "language": "python",
   "name": "conda-base-py"
  },
  "language_info": {
   "codemirror_mode": {
    "name": "ipython",
    "version": 3
   },
   "file_extension": ".py",
   "mimetype": "text/x-python",
   "name": "python",
   "nbconvert_exporter": "python",
   "pygments_lexer": "ipython3",
   "version": "3.12.7"
  }
 },
 "nbformat": 4,
 "nbformat_minor": 5
}
